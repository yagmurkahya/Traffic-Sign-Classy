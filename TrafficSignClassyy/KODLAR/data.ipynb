{
 "cells": [
  {
   "cell_type": "code",
   "execution_count": 2,
   "metadata": {},
   "outputs": [],
   "source": [
    "import numpy as np\n",
    "import pandas as pd\n",
    "import matplotlib.pyplot as plt\n",
    "import cv2\n",
    "import tensorflow as tf\n",
    "from PIL import Image\n",
    "import os\n",
    "from sklearn.model_selection import train_test_split\n",
    "from keras.utils import to_categorical\n",
    "from keras.models import Sequential\n",
    "from keras.layers import Conv2D, MaxPool2D, Dense, Flatten, Dropout\n",
    "\n",
    "\n"
   ]
  },
  {
   "cell_type": "code",
   "execution_count": 3,
   "metadata": {},
   "outputs": [
    {
     "name": "stdout",
     "output_type": "stream",
     "text": [
      "Error loading image\n",
      "(39209, 30, 30, 3) (39209,)\n",
      "(31367, 30, 30, 3) (7842, 30, 30, 3) (31367,) (7842,)\n"
     ]
    }
   ],
   "source": [
    "data = []\n",
    "labels = []\n",
    "classes = 43\n",
    "\n",
    "for i in range(classes):\n",
    "    path = os.path.join(os.getcwd(),'Train',str(i))\n",
    "    images = os.listdir(path)\n",
    "    \n",
    "    for a in images:\n",
    "        try:\n",
    "            image = Image.open(path + '/'+ a)\n",
    "            image = image.resize((30,30))\n",
    "            image = np.array(image)\n",
    "            data.append(image)\n",
    "            labels.append(i)\n",
    "        except:\n",
    "            print(\"Error loading image\")\n",
    "\n",
    "data = np.array(data)\n",
    "labels = np.array(labels)\n",
    "\n",
    "print(data.shape, labels.shape)\n",
    "X_train, X_test, y_train, y_test= train_test_split(data, labels, test_size=0.2, random_state=42)\n",
    "\n",
    "print(X_train.shape, X_test.shape, y_train.shape, y_test.shape)\n",
    "\n",
    "y_train= to_categorical(y_train,43)\n",
    "y_test= to_categorical(y_test,43)"
   ]
  },
  {
   "cell_type": "code",
   "execution_count": 4,
   "metadata": {},
   "outputs": [],
   "source": [
    "model = Sequential()\n",
    "model.add(Conv2D(filters=32, kernel_size=(5,5), activation='relu', input_shape=X_train.shape[1:]))\n",
    "model.add(Conv2D(filters=32, kernel_size=(5,5), activation='relu'))\n",
    "model.add(MaxPool2D(pool_size=(2, 2)))\n",
    "model.add(Dropout(rate=0.25))\n",
    "model.add(Conv2D(filters=64, kernel_size=(3, 3), activation='relu'))\n",
    "model.add(Conv2D(filters=64, kernel_size=(3, 3), activation='relu'))\n",
    "model.add(MaxPool2D(pool_size=(2, 2)))\n",
    "model.add(Dropout(rate=0.25))\n",
    "model.add(Flatten())\n",
    "model.add(Dense(256, activation='relu'))\n",
    "model.add(Dropout(rate=0.5))\n",
    "model.add(Dense(43, activation='softmax'))\n",
    "\n",
    "model.compile(loss='categorical_crossentropy', optimizer='adam', metrics=['accuracy'])"
   ]
  },
  {
   "cell_type": "code",
   "execution_count": 5,
   "metadata": {},
   "outputs": [
    {
     "name": "stdout",
     "output_type": "stream",
     "text": [
      "Epoch 1/15\n",
      "981/981 [==============================] - 87s 87ms/step - loss: 4.0369 - accuracy: 0.2440 - val_loss: 1.1673 - val_accuracy: 0.6866\n",
      "Epoch 2/15\n",
      "981/981 [==============================] - 74s 75ms/step - loss: 1.3450 - accuracy: 0.5995 - val_loss: 0.3968 - val_accuracy: 0.8922\n",
      "Epoch 3/15\n",
      "981/981 [==============================] - 74s 76ms/step - loss: 0.7032 - accuracy: 0.7854 - val_loss: 0.2216 - val_accuracy: 0.9336\n",
      "Epoch 4/15\n",
      "981/981 [==============================] - 66s 67ms/step - loss: 0.4809 - accuracy: 0.8545 - val_loss: 0.1545 - val_accuracy: 0.9528\n",
      "Epoch 5/15\n",
      "981/981 [==============================] - 70s 71ms/step - loss: 0.3627 - accuracy: 0.8911 - val_loss: 0.1519 - val_accuracy: 0.9540\n",
      "Epoch 6/15\n",
      "981/981 [==============================] - 68s 70ms/step - loss: 0.3211 - accuracy: 0.9040 - val_loss: 0.1251 - val_accuracy: 0.9620\n",
      "Epoch 7/15\n",
      "981/981 [==============================] - 67s 69ms/step - loss: 0.2898 - accuracy: 0.9122 - val_loss: 0.1047 - val_accuracy: 0.9711\n",
      "Epoch 8/15\n",
      "981/981 [==============================] - 68s 69ms/step - loss: 0.3027 - accuracy: 0.9115 - val_loss: 0.1371 - val_accuracy: 0.9623\n",
      "Epoch 9/15\n",
      "981/981 [==============================] - 68s 70ms/step - loss: 0.2577 - accuracy: 0.9232 - val_loss: 0.0746 - val_accuracy: 0.9823\n",
      "Epoch 10/15\n",
      "981/981 [==============================] - 68s 70ms/step - loss: 0.2724 - accuracy: 0.9230 - val_loss: 0.0829 - val_accuracy: 0.9774\n",
      "Epoch 11/15\n",
      "981/981 [==============================] - 68s 70ms/step - loss: 0.2217 - accuracy: 0.9380 - val_loss: 0.0661 - val_accuracy: 0.9841\n",
      "Epoch 12/15\n",
      "981/981 [==============================] - 69s 70ms/step - loss: 0.2324 - accuracy: 0.9343 - val_loss: 0.0611 - val_accuracy: 0.9830\n",
      "Epoch 13/15\n",
      "981/981 [==============================] - 69s 70ms/step - loss: 0.2276 - accuracy: 0.9373 - val_loss: 0.0580 - val_accuracy: 0.9846\n",
      "Epoch 14/15\n",
      "981/981 [==============================] - 69s 70ms/step - loss: 0.2548 - accuracy: 0.9298 - val_loss: 0.0544 - val_accuracy: 0.9866\n",
      "Epoch 15/15\n",
      "981/981 [==============================] - 69s 70ms/step - loss: 0.2312 - accuracy: 0.9380 - val_loss: 0.0933 - val_accuracy: 0.9762\n"
     ]
    }
   ],
   "source": [
    "epochs = 15\n",
    "history = model.fit(X_train, y_train, batch_size=32, epochs=epochs, validation_data=(X_test, y_test))\n",
    "model.save(\"my_model.h5\")"
   ]
  },
  {
   "cell_type": "code",
   "execution_count": 6,
   "metadata": {},
   "outputs": [
    {
     "data": {
      "image/png": "[encoded data removed]",
      "text/plain": [
       "<Figure size 432x288 with 1 Axes>"
      ]
     },
     "metadata": {
      "needs_background": "light"
     },
     "output_type": "display_data"
    },
    {
     "data": {
      "image/png": "[encoded data removed]",
      "text/plain": [
       "<Figure size 432x288 with 1 Axes>"
      ]
     },
     "metadata": {
      "needs_background": "light"
     },
     "output_type": "display_data"
    }
   ],
   "source": [
    "plt.figure(0)\n",
    "plt.plot(history.history['accuracy'], label='training accuracy')\n",
    "plt.plot(history.history['val_accuracy'], label='val accuracy')\n",
    "plt.title('Accuracy')\n",
    "plt.xlabel('epochs')\n",
    "plt.ylabel('accuracy')\n",
    "plt.legend()\n",
    "plt.show()\n",
    "\n",
    "plt.figure(1)\n",
    "plt.plot(history.history['loss'], label='training loss')\n",
    "plt.plot(history.history['val_loss'], label='val loss')\n",
    "plt.title('Loss')\n",
    "plt.xlabel('epochs')\n",
    "plt.ylabel('loss')\n",
    "plt.legend()\n",
    "plt.show()"
   ]
  },
  {
   "cell_type": "code",
   "execution_count": 9,
   "metadata": {},
   "outputs": [
    {
     "name": "stderr",
     "output_type": "stream",
     "text": [
      "/Users/yagmurkahya/opt/anaconda3/lib/python3.8/site-packages/tensorflow/python/keras/engine/sequential.py:450: UserWarning: `model.predict_classes()` is deprecated and will be removed after 2021-01-01. Please use instead:* `np.argmax(model.predict(x), axis=-1)`,   if your model does multi-class classification   (e.g. if it uses a `softmax` last-layer activation).* `(model.predict(x) > 0.5).astype(\"int32\")`,   if your model does binary classification   (e.g. if it uses a `sigmoid` last-layer activation).\n",
      "  warnings.warn('`model.predict_classes()` is deprecated and '\n"
     ]
    },
    {
     "name": "stdout",
     "output_type": "stream",
     "text": [
      "0.9361836896278701\n"
     ]
    }
   ],
   "source": [
    "from sklearn.metrics import accuracy_score\n",
    "y_test = pd.read_csv('Test.csv')\n",
    "labels = y_test[\"ClassId\"].values\n",
    "imgs = y_test[\"Path\"].values\n",
    "data=[]\n",
    "for img in imgs:\n",
    "    image = Image.open(img)\n",
    "    image = image.resize((30,30))\n",
    "    data.append(np.array(image))\n",
    "X_test=np.array(data)\n",
    "pred = model.predict_classes(X_test)\n",
    "#Accuracy with the test data\n",
    "from sklearn.metrics import accuracy_score\n",
    "print(accuracy_score(labels, pred))\n",
    "model.save(\"traffic_classifier.h5\")"
   ]
  },
  {
   "cell_type": "code",
   "execution_count": null,
   "metadata": {},
   "outputs": [],
   "source": []
  }
 ],
 "metadata": {
  "kernelspec": {
   "display_name": "Python 3",
   "language": "python",
   "name": "python3"
  },
  "language_info": {
   "codemirror_mode": {
    "name": "ipython",
    "version": 3
   },
   "file_extension": ".py",
   "mimetype": "text/x-python",
   "name": "python",
   "nbconvert_exporter": "python",
   "pygments_lexer": "ipython3",
   "version": "3.8.3"
  }
 },
 "nbformat": 4,
 "nbformat_minor": 4
}
